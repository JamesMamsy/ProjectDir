{
 "cells": [
  {
   "cell_type": "code",
   "execution_count": 2,
   "metadata": {},
   "outputs": [],
   "source": [
    "import pandas as pd"
   ]
  },
  {
   "cell_type": "code",
   "execution_count": 3,
   "metadata": {},
   "outputs": [],
   "source": [
    "dataAddr = \"../data/pickledData.pckl\"\n",
    "data = pd.read_pickle(dataAddr)"
   ]
  },
  {
   "cell_type": "markdown",
   "metadata": {},
   "source": [
    "## Dataset Statistics"
   ]
  },
  {
   "cell_type": "code",
   "execution_count": 10,
   "metadata": {},
   "outputs": [
    {
     "data": {
      "text/html": [
       "<div>\n",
       "<style scoped>\n",
       "    .dataframe tbody tr th:only-of-type {\n",
       "        vertical-align: middle;\n",
       "    }\n",
       "\n",
       "    .dataframe tbody tr th {\n",
       "        vertical-align: top;\n",
       "    }\n",
       "\n",
       "    .dataframe thead th {\n",
       "        text-align: right;\n",
       "    }\n",
       "</style>\n",
       "<table border=\"1\" class=\"dataframe\">\n",
       "  <thead>\n",
       "    <tr style=\"text-align: right;\">\n",
       "      <th></th>\n",
       "      <th>YEAR</th>\n",
       "      <th>FL_DATE</th>\n",
       "      <th>OP_UNIQUE_CARRIER</th>\n",
       "      <th>TAIL_NUM</th>\n",
       "      <th>OP_CARRIER_FL_NUM</th>\n",
       "      <th>ORIGIN_AIRPORT_ID</th>\n",
       "      <th>ORIGIN</th>\n",
       "      <th>ORIGIN_CITY_NAME</th>\n",
       "      <th>DEST_AIRPORT_ID</th>\n",
       "      <th>DEST</th>\n",
       "      <th>...</th>\n",
       "      <th>LATE_AIRCRAFT_DELAY</th>\n",
       "      <th>FIRST_DEP_TIME</th>\n",
       "      <th>TOTAL_ADD_GTIME</th>\n",
       "      <th>LONGEST_ADD_GTIME</th>\n",
       "      <th>DEST_AIRPORT_SEQ_ID</th>\n",
       "      <th>DEST_CITY_MARKET_ID</th>\n",
       "      <th>DEST_STATE_ABR</th>\n",
       "      <th>DEST_STATE_FIPS</th>\n",
       "      <th>DEST_STATE_NM</th>\n",
       "      <th>DEST_WAC</th>\n",
       "    </tr>\n",
       "  </thead>\n",
       "  <tbody>\n",
       "    <tr>\n",
       "      <th>0</th>\n",
       "      <td>2022</td>\n",
       "      <td>4/1/2022 12:00:00 AM</td>\n",
       "      <td>9E</td>\n",
       "      <td>N132EV</td>\n",
       "      <td>4694.0</td>\n",
       "      <td>10397</td>\n",
       "      <td>ATL</td>\n",
       "      <td>Atlanta, GA</td>\n",
       "      <td>10868</td>\n",
       "      <td>CAE</td>\n",
       "      <td>...</td>\n",
       "      <td>NaN</td>\n",
       "      <td>NaN</td>\n",
       "      <td>NaN</td>\n",
       "      <td>NaN</td>\n",
       "      <td>NaN</td>\n",
       "      <td>NaN</td>\n",
       "      <td>NaN</td>\n",
       "      <td>NaN</td>\n",
       "      <td>NaN</td>\n",
       "      <td>NaN</td>\n",
       "    </tr>\n",
       "    <tr>\n",
       "      <th>1</th>\n",
       "      <td>2022</td>\n",
       "      <td>4/1/2022 12:00:00 AM</td>\n",
       "      <td>9E</td>\n",
       "      <td>N133EV</td>\n",
       "      <td>4729.0</td>\n",
       "      <td>14321</td>\n",
       "      <td>PWM</td>\n",
       "      <td>Portland, ME</td>\n",
       "      <td>12953</td>\n",
       "      <td>LGA</td>\n",
       "      <td>...</td>\n",
       "      <td>NaN</td>\n",
       "      <td>NaN</td>\n",
       "      <td>NaN</td>\n",
       "      <td>NaN</td>\n",
       "      <td>NaN</td>\n",
       "      <td>NaN</td>\n",
       "      <td>NaN</td>\n",
       "      <td>NaN</td>\n",
       "      <td>NaN</td>\n",
       "      <td>NaN</td>\n",
       "    </tr>\n",
       "    <tr>\n",
       "      <th>2</th>\n",
       "      <td>2022</td>\n",
       "      <td>4/1/2022 12:00:00 AM</td>\n",
       "      <td>9E</td>\n",
       "      <td>N133EV</td>\n",
       "      <td>4808.0</td>\n",
       "      <td>12478</td>\n",
       "      <td>JFK</td>\n",
       "      <td>New York, NY</td>\n",
       "      <td>13487</td>\n",
       "      <td>MSP</td>\n",
       "      <td>...</td>\n",
       "      <td>28.0</td>\n",
       "      <td>NaN</td>\n",
       "      <td>NaN</td>\n",
       "      <td>NaN</td>\n",
       "      <td>NaN</td>\n",
       "      <td>NaN</td>\n",
       "      <td>NaN</td>\n",
       "      <td>NaN</td>\n",
       "      <td>NaN</td>\n",
       "      <td>NaN</td>\n",
       "    </tr>\n",
       "    <tr>\n",
       "      <th>3</th>\n",
       "      <td>2022</td>\n",
       "      <td>4/1/2022 12:00:00 AM</td>\n",
       "      <td>9E</td>\n",
       "      <td>N133EV</td>\n",
       "      <td>4977.0</td>\n",
       "      <td>12953</td>\n",
       "      <td>LGA</td>\n",
       "      <td>New York, NY</td>\n",
       "      <td>14122</td>\n",
       "      <td>PIT</td>\n",
       "      <td>...</td>\n",
       "      <td>54.0</td>\n",
       "      <td>NaN</td>\n",
       "      <td>NaN</td>\n",
       "      <td>NaN</td>\n",
       "      <td>NaN</td>\n",
       "      <td>NaN</td>\n",
       "      <td>NaN</td>\n",
       "      <td>NaN</td>\n",
       "      <td>NaN</td>\n",
       "      <td>NaN</td>\n",
       "    </tr>\n",
       "    <tr>\n",
       "      <th>4</th>\n",
       "      <td>2022</td>\n",
       "      <td>4/1/2022 12:00:00 AM</td>\n",
       "      <td>9E</td>\n",
       "      <td>N133EV</td>\n",
       "      <td>5067.0</td>\n",
       "      <td>12953</td>\n",
       "      <td>LGA</td>\n",
       "      <td>New York, NY</td>\n",
       "      <td>13577</td>\n",
       "      <td>MYR</td>\n",
       "      <td>...</td>\n",
       "      <td>NaN</td>\n",
       "      <td>NaN</td>\n",
       "      <td>NaN</td>\n",
       "      <td>NaN</td>\n",
       "      <td>NaN</td>\n",
       "      <td>NaN</td>\n",
       "      <td>NaN</td>\n",
       "      <td>NaN</td>\n",
       "      <td>NaN</td>\n",
       "      <td>NaN</td>\n",
       "    </tr>\n",
       "    <tr>\n",
       "      <th>...</th>\n",
       "      <td>...</td>\n",
       "      <td>...</td>\n",
       "      <td>...</td>\n",
       "      <td>...</td>\n",
       "      <td>...</td>\n",
       "      <td>...</td>\n",
       "      <td>...</td>\n",
       "      <td>...</td>\n",
       "      <td>...</td>\n",
       "      <td>...</td>\n",
       "      <td>...</td>\n",
       "      <td>...</td>\n",
       "      <td>...</td>\n",
       "      <td>...</td>\n",
       "      <td>...</td>\n",
       "      <td>...</td>\n",
       "      <td>...</td>\n",
       "      <td>...</td>\n",
       "      <td>...</td>\n",
       "      <td>...</td>\n",
       "      <td>...</td>\n",
       "    </tr>\n",
       "    <tr>\n",
       "      <th>8356186</th>\n",
       "      <td>2022</td>\n",
       "      <td>9/30/2022 12:00:00 AM</td>\n",
       "      <td>YX</td>\n",
       "      <td>NaN</td>\n",
       "      <td>5857.0</td>\n",
       "      <td>10693</td>\n",
       "      <td>BNA</td>\n",
       "      <td>Nashville, TN</td>\n",
       "      <td>10721</td>\n",
       "      <td>BOS</td>\n",
       "      <td>...</td>\n",
       "      <td>NaN</td>\n",
       "      <td>NaN</td>\n",
       "      <td>NaN</td>\n",
       "      <td>NaN</td>\n",
       "      <td>NaN</td>\n",
       "      <td>NaN</td>\n",
       "      <td>NaN</td>\n",
       "      <td>NaN</td>\n",
       "      <td>NaN</td>\n",
       "      <td>NaN</td>\n",
       "    </tr>\n",
       "    <tr>\n",
       "      <th>8356187</th>\n",
       "      <td>2022</td>\n",
       "      <td>9/30/2022 12:00:00 AM</td>\n",
       "      <td>YX</td>\n",
       "      <td>NaN</td>\n",
       "      <td>5858.0</td>\n",
       "      <td>10821</td>\n",
       "      <td>BWI</td>\n",
       "      <td>Baltimore, MD</td>\n",
       "      <td>10721</td>\n",
       "      <td>BOS</td>\n",
       "      <td>...</td>\n",
       "      <td>NaN</td>\n",
       "      <td>NaN</td>\n",
       "      <td>NaN</td>\n",
       "      <td>NaN</td>\n",
       "      <td>NaN</td>\n",
       "      <td>NaN</td>\n",
       "      <td>NaN</td>\n",
       "      <td>NaN</td>\n",
       "      <td>NaN</td>\n",
       "      <td>NaN</td>\n",
       "    </tr>\n",
       "    <tr>\n",
       "      <th>8356188</th>\n",
       "      <td>2022</td>\n",
       "      <td>9/30/2022 12:00:00 AM</td>\n",
       "      <td>YX</td>\n",
       "      <td>NaN</td>\n",
       "      <td>5861.0</td>\n",
       "      <td>10721</td>\n",
       "      <td>BOS</td>\n",
       "      <td>Boston, MA</td>\n",
       "      <td>11057</td>\n",
       "      <td>CLT</td>\n",
       "      <td>...</td>\n",
       "      <td>NaN</td>\n",
       "      <td>NaN</td>\n",
       "      <td>NaN</td>\n",
       "      <td>NaN</td>\n",
       "      <td>NaN</td>\n",
       "      <td>NaN</td>\n",
       "      <td>NaN</td>\n",
       "      <td>NaN</td>\n",
       "      <td>NaN</td>\n",
       "      <td>NaN</td>\n",
       "    </tr>\n",
       "    <tr>\n",
       "      <th>8356189</th>\n",
       "      <td>2022</td>\n",
       "      <td>9/30/2022 12:00:00 AM</td>\n",
       "      <td>YX</td>\n",
       "      <td>NaN</td>\n",
       "      <td>5862.0</td>\n",
       "      <td>12339</td>\n",
       "      <td>IND</td>\n",
       "      <td>Indianapolis, IN</td>\n",
       "      <td>10721</td>\n",
       "      <td>BOS</td>\n",
       "      <td>...</td>\n",
       "      <td>NaN</td>\n",
       "      <td>NaN</td>\n",
       "      <td>NaN</td>\n",
       "      <td>NaN</td>\n",
       "      <td>NaN</td>\n",
       "      <td>NaN</td>\n",
       "      <td>NaN</td>\n",
       "      <td>NaN</td>\n",
       "      <td>NaN</td>\n",
       "      <td>NaN</td>\n",
       "    </tr>\n",
       "    <tr>\n",
       "      <th>8356190</th>\n",
       "      <td>2022</td>\n",
       "      <td>9/30/2022 12:00:00 AM</td>\n",
       "      <td>YX</td>\n",
       "      <td>NaN</td>\n",
       "      <td>5863.0</td>\n",
       "      <td>11278</td>\n",
       "      <td>DCA</td>\n",
       "      <td>Washington, DC</td>\n",
       "      <td>12478</td>\n",
       "      <td>JFK</td>\n",
       "      <td>...</td>\n",
       "      <td>NaN</td>\n",
       "      <td>NaN</td>\n",
       "      <td>NaN</td>\n",
       "      <td>NaN</td>\n",
       "      <td>NaN</td>\n",
       "      <td>NaN</td>\n",
       "      <td>NaN</td>\n",
       "      <td>NaN</td>\n",
       "      <td>NaN</td>\n",
       "      <td>NaN</td>\n",
       "    </tr>\n",
       "  </tbody>\n",
       "</table>\n",
       "<p>8356191 rows × 52 columns</p>\n",
       "</div>"
      ],
      "text/plain": [
       "         YEAR                FL_DATE OP_UNIQUE_CARRIER TAIL_NUM   \n",
       "0        2022   4/1/2022 12:00:00 AM                9E   N132EV  \\\n",
       "1        2022   4/1/2022 12:00:00 AM                9E   N133EV   \n",
       "2        2022   4/1/2022 12:00:00 AM                9E   N133EV   \n",
       "3        2022   4/1/2022 12:00:00 AM                9E   N133EV   \n",
       "4        2022   4/1/2022 12:00:00 AM                9E   N133EV   \n",
       "...       ...                    ...               ...      ...   \n",
       "8356186  2022  9/30/2022 12:00:00 AM                YX      NaN   \n",
       "8356187  2022  9/30/2022 12:00:00 AM                YX      NaN   \n",
       "8356188  2022  9/30/2022 12:00:00 AM                YX      NaN   \n",
       "8356189  2022  9/30/2022 12:00:00 AM                YX      NaN   \n",
       "8356190  2022  9/30/2022 12:00:00 AM                YX      NaN   \n",
       "\n",
       "         OP_CARRIER_FL_NUM  ORIGIN_AIRPORT_ID ORIGIN  ORIGIN_CITY_NAME   \n",
       "0                   4694.0              10397    ATL       Atlanta, GA  \\\n",
       "1                   4729.0              14321    PWM      Portland, ME   \n",
       "2                   4808.0              12478    JFK      New York, NY   \n",
       "3                   4977.0              12953    LGA      New York, NY   \n",
       "4                   5067.0              12953    LGA      New York, NY   \n",
       "...                    ...                ...    ...               ...   \n",
       "8356186             5857.0              10693    BNA     Nashville, TN   \n",
       "8356187             5858.0              10821    BWI     Baltimore, MD   \n",
       "8356188             5861.0              10721    BOS        Boston, MA   \n",
       "8356189             5862.0              12339    IND  Indianapolis, IN   \n",
       "8356190             5863.0              11278    DCA    Washington, DC   \n",
       "\n",
       "         DEST_AIRPORT_ID DEST  ... LATE_AIRCRAFT_DELAY  FIRST_DEP_TIME   \n",
       "0                  10868  CAE  ...                 NaN             NaN  \\\n",
       "1                  12953  LGA  ...                 NaN             NaN   \n",
       "2                  13487  MSP  ...                28.0             NaN   \n",
       "3                  14122  PIT  ...                54.0             NaN   \n",
       "4                  13577  MYR  ...                 NaN             NaN   \n",
       "...                  ...  ...  ...                 ...             ...   \n",
       "8356186            10721  BOS  ...                 NaN             NaN   \n",
       "8356187            10721  BOS  ...                 NaN             NaN   \n",
       "8356188            11057  CLT  ...                 NaN             NaN   \n",
       "8356189            10721  BOS  ...                 NaN             NaN   \n",
       "8356190            12478  JFK  ...                 NaN             NaN   \n",
       "\n",
       "         TOTAL_ADD_GTIME  LONGEST_ADD_GTIME  DEST_AIRPORT_SEQ_ID   \n",
       "0                    NaN                NaN                  NaN  \\\n",
       "1                    NaN                NaN                  NaN   \n",
       "2                    NaN                NaN                  NaN   \n",
       "3                    NaN                NaN                  NaN   \n",
       "4                    NaN                NaN                  NaN   \n",
       "...                  ...                ...                  ...   \n",
       "8356186              NaN                NaN                  NaN   \n",
       "8356187              NaN                NaN                  NaN   \n",
       "8356188              NaN                NaN                  NaN   \n",
       "8356189              NaN                NaN                  NaN   \n",
       "8356190              NaN                NaN                  NaN   \n",
       "\n",
       "         DEST_CITY_MARKET_ID  DEST_STATE_ABR DEST_STATE_FIPS  DEST_STATE_NM   \n",
       "0                        NaN             NaN             NaN            NaN  \\\n",
       "1                        NaN             NaN             NaN            NaN   \n",
       "2                        NaN             NaN             NaN            NaN   \n",
       "3                        NaN             NaN             NaN            NaN   \n",
       "4                        NaN             NaN             NaN            NaN   \n",
       "...                      ...             ...             ...            ...   \n",
       "8356186                  NaN             NaN             NaN            NaN   \n",
       "8356187                  NaN             NaN             NaN            NaN   \n",
       "8356188                  NaN             NaN             NaN            NaN   \n",
       "8356189                  NaN             NaN             NaN            NaN   \n",
       "8356190                  NaN             NaN             NaN            NaN   \n",
       "\n",
       "         DEST_WAC  \n",
       "0             NaN  \n",
       "1             NaN  \n",
       "2             NaN  \n",
       "3             NaN  \n",
       "4             NaN  \n",
       "...           ...  \n",
       "8356186       NaN  \n",
       "8356187       NaN  \n",
       "8356188       NaN  \n",
       "8356189       NaN  \n",
       "8356190       NaN  \n",
       "\n",
       "[8356191 rows x 52 columns]"
      ]
     },
     "execution_count": 10,
     "metadata": {},
     "output_type": "execute_result"
    }
   ],
   "source": [
    "data"
   ]
  },
  {
   "cell_type": "code",
   "execution_count": 5,
   "metadata": {},
   "outputs": [
    {
     "data": {
      "text/plain": [
       "Index(['YEAR', 'FL_DATE', 'OP_UNIQUE_CARRIER', 'TAIL_NUM', 'OP_CARRIER_FL_NUM',\n",
       "       'ORIGIN_AIRPORT_ID', 'ORIGIN', 'ORIGIN_CITY_NAME', 'DEST_AIRPORT_ID',\n",
       "       'DEST', 'DEST_CITY_NAME', 'CRS_DEP_TIME', 'DEP_TIME', 'DEP_DELAY',\n",
       "       'DEP_DELAY_NEW', 'DEP_DEL15', 'DEP_DELAY_GROUP', 'DEP_TIME_BLK',\n",
       "       'TAXI_OUT', 'WHEELS_OFF', 'WHEELS_ON', 'TAXI_IN', 'CRS_ARR_TIME',\n",
       "       'ARR_TIME', 'ARR_DELAY', 'ARR_DELAY_NEW', 'ARR_DEL15',\n",
       "       'ARR_DELAY_GROUP', 'ARR_TIME_BLK', 'CANCELLED', 'CANCELLATION_CODE',\n",
       "       'DIVERTED', 'CRS_ELAPSED_TIME', 'ACTUAL_ELAPSED_TIME', 'AIR_TIME',\n",
       "       'FLIGHTS', 'DISTANCE', 'DISTANCE_GROUP', 'CARRIER_DELAY',\n",
       "       'WEATHER_DELAY', 'NAS_DELAY', 'SECURITY_DELAY', 'LATE_AIRCRAFT_DELAY',\n",
       "       'FIRST_DEP_TIME', 'TOTAL_ADD_GTIME', 'LONGEST_ADD_GTIME',\n",
       "       'DEST_AIRPORT_SEQ_ID', 'DEST_CITY_MARKET_ID', 'DEST_STATE_ABR',\n",
       "       'DEST_STATE_FIPS', 'DEST_STATE_NM', 'DEST_WAC'],\n",
       "      dtype='object')"
      ]
     },
     "execution_count": 5,
     "metadata": {},
     "output_type": "execute_result"
    }
   ],
   "source": [
    "data.columns"
   ]
  },
  {
   "cell_type": "code",
   "execution_count": 9,
   "metadata": {},
   "outputs": [
    {
     "data": {
      "text/plain": [
       "434521932"
      ]
     },
     "execution_count": 9,
     "metadata": {},
     "output_type": "execute_result"
    }
   ],
   "source": [
    "data.size "
   ]
  },
  {
   "cell_type": "code",
   "execution_count": 11,
   "metadata": {},
   "outputs": [
    {
     "data": {
      "text/plain": [
       "8356191.0"
      ]
     },
     "execution_count": 11,
     "metadata": {},
     "output_type": "execute_result"
    }
   ],
   "source": [
    "data.size/len(data.columns) #Number of rows"
   ]
  },
  {
   "cell_type": "code",
   "execution_count": 14,
   "metadata": {},
   "outputs": [
    {
     "data": {
      "text/plain": [
       "YEAR\n",
       "2022    5015622\n",
       "2023    3340569\n",
       "Name: count, dtype: int64"
      ]
     },
     "execution_count": 14,
     "metadata": {},
     "output_type": "execute_result"
    }
   ],
   "source": [
    "data['YEAR'].value_counts()"
   ]
  },
  {
   "cell_type": "markdown",
   "metadata": {},
   "source": [
    "#### Delay Statistics"
   ]
  },
  {
   "cell_type": "code",
   "execution_count": 6,
   "metadata": {},
   "outputs": [
    {
     "data": {
      "text/plain": [
       "<Axes: >"
      ]
     },
     "execution_count": 6,
     "metadata": {},
     "output_type": "execute_result"
    },
    {
     "data": {
      "image/png": "[encoded data removed]",
      "text/plain": [
       "<Figure size 640x480 with 1 Axes>"
      ]
     },
     "metadata": {},
     "output_type": "display_data"
    }
   ],
   "source": [
    "data.boxplot(column='DEP_DELAY_NEW')"
   ]
  },
  {
   "cell_type": "code",
   "execution_count": 19,
   "metadata": {},
   "outputs": [],
   "source": [
    "only_delayed = data[data['DEP_DELAY_NEW'] > 0]"
   ]
  },
  {
   "cell_type": "code",
   "execution_count": 23,
   "metadata": {},
   "outputs": [
    {
     "data": {
      "text/plain": [
       "0.3817991953510876"
      ]
     },
     "execution_count": 23,
     "metadata": {},
     "output_type": "execute_result"
    }
   ],
   "source": [
    "only_delayed.size/data.size #Percentage of flights delayed"
   ]
  },
  {
   "cell_type": "code",
   "execution_count": 22,
   "metadata": {},
   "outputs": [
    {
     "data": {
      "text/plain": [
       "6137.273831646948"
      ]
     },
     "execution_count": 22,
     "metadata": {},
     "output_type": "execute_result"
    }
   ],
   "source": [
    "only_delayed['DEP_DELAY_NEW'].var() #Variance of delay"
   ]
  },
  {
   "cell_type": "markdown",
   "metadata": {},
   "source": [
    "#### Presence of NA per Col"
   ]
  },
  {
   "cell_type": "code",
   "execution_count": 27,
   "metadata": {},
   "outputs": [
    {
     "name": "stdout",
     "output_type": "stream",
     "text": [
      "YEAR:No\n",
      "FL_DATE:No\n",
      "OP_UNIQUE_CARRIER:No\n",
      "TAIL_NUM:Yes\n",
      "OP_CARRIER_FL_NUM:Yes\n",
      "ORIGIN_AIRPORT_ID:No\n",
      "ORIGIN:No\n",
      "ORIGIN_CITY_NAME:No\n",
      "DEST_AIRPORT_ID:No\n",
      "DEST:No\n",
      "DEST_CITY_NAME:No\n",
      "CRS_DEP_TIME:No\n",
      "DEP_TIME:Yes\n",
      "DEP_DELAY:Yes\n",
      "DEP_DELAY_NEW:Yes\n",
      "DEP_DEL15:Yes\n",
      "DEP_DELAY_GROUP:Yes\n",
      "DEP_TIME_BLK:No\n",
      "TAXI_OUT:Yes\n",
      "WHEELS_OFF:Yes\n",
      "WHEELS_ON:Yes\n",
      "TAXI_IN:Yes\n",
      "CRS_ARR_TIME:No\n",
      "ARR_TIME:Yes\n",
      "ARR_DELAY:Yes\n",
      "ARR_DELAY_NEW:Yes\n",
      "ARR_DEL15:Yes\n",
      "ARR_DELAY_GROUP:Yes\n",
      "ARR_TIME_BLK:No\n",
      "CANCELLED:No\n",
      "CANCELLATION_CODE:Yes\n",
      "DIVERTED:No\n",
      "CRS_ELAPSED_TIME:Yes\n",
      "ACTUAL_ELAPSED_TIME:Yes\n",
      "AIR_TIME:Yes\n",
      "FLIGHTS:No\n",
      "DISTANCE:No\n",
      "DISTANCE_GROUP:No\n",
      "CARRIER_DELAY:Yes\n",
      "WEATHER_DELAY:Yes\n",
      "NAS_DELAY:Yes\n",
      "SECURITY_DELAY:Yes\n",
      "LATE_AIRCRAFT_DELAY:Yes\n",
      "FIRST_DEP_TIME:Yes\n",
      "TOTAL_ADD_GTIME:Yes\n",
      "LONGEST_ADD_GTIME:Yes\n",
      "DEST_AIRPORT_SEQ_ID:Yes\n",
      "DEST_CITY_MARKET_ID:Yes\n",
      "DEST_STATE_ABR:Yes\n",
      "DEST_STATE_FIPS:Yes\n",
      "DEST_STATE_NM:Yes\n",
      "DEST_WAC:Yes\n"
     ]
    }
   ],
   "source": [
    "for col in data.columns:\n",
    "    if(data[col].isna().any()):\n",
    "        print(f\"{col}:Yes\")\n",
    "    else:\n",
    "        print(f\"{col}:No\")"
   ]
  },
  {
   "cell_type": "code",
   "execution_count": 28,
   "metadata": {},
   "outputs": [
    {
     "name": "stdout",
     "output_type": "stream",
     "text": [
      "TAIL_NUM:Yes\n",
      "OP_CARRIER_FL_NUM:Yes\n",
      "DEP_TIME:Yes\n",
      "DEP_DELAY:Yes\n",
      "DEP_DELAY_NEW:Yes\n",
      "DEP_DEL15:Yes\n",
      "DEP_DELAY_GROUP:Yes\n",
      "TAXI_OUT:Yes\n",
      "WHEELS_OFF:Yes\n",
      "WHEELS_ON:Yes\n",
      "TAXI_IN:Yes\n",
      "ARR_TIME:Yes\n",
      "ARR_DELAY:Yes\n",
      "ARR_DELAY_NEW:Yes\n",
      "ARR_DEL15:Yes\n",
      "ARR_DELAY_GROUP:Yes\n",
      "CANCELLATION_CODE:Yes\n",
      "CRS_ELAPSED_TIME:Yes\n",
      "ACTUAL_ELAPSED_TIME:Yes\n",
      "AIR_TIME:Yes\n",
      "CARRIER_DELAY:Yes\n",
      "WEATHER_DELAY:Yes\n",
      "NAS_DELAY:Yes\n",
      "SECURITY_DELAY:Yes\n",
      "LATE_AIRCRAFT_DELAY:Yes\n",
      "FIRST_DEP_TIME:Yes\n",
      "TOTAL_ADD_GTIME:Yes\n",
      "LONGEST_ADD_GTIME:Yes\n",
      "DEST_AIRPORT_SEQ_ID:Yes\n",
      "DEST_CITY_MARKET_ID:Yes\n",
      "DEST_STATE_ABR:Yes\n",
      "DEST_STATE_FIPS:Yes\n",
      "DEST_STATE_NM:Yes\n",
      "DEST_WAC:Yes\n"
     ]
    }
   ],
   "source": [
    "for col in data.columns:\n",
    "    if(data[col].isna().any()):\n",
    "        print(f\"{col}:Yes\")"
   ]
  }
 ],
 "metadata": {
  "kernelspec": {
   "display_name": "Python 3",
   "language": "python",
   "name": "python3"
  },
  "language_info": {
   "codemirror_mode": {
    "name": "ipython",
    "version": 3
   },
   "file_extension": ".py",
   "mimetype": "text/x-python",
   "name": "python",
   "nbconvert_exporter": "python",
   "pygments_lexer": "ipython3",
   "version": "3.11.3"
  }
 },
 "nbformat": 4,
 "nbformat_minor": 2
}
